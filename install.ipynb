{
 "cells": [
  {
   "cell_type": "code",
   "execution_count": 1,
   "metadata": {},
   "outputs": [
    {
     "name": "stdout",
     "output_type": "stream",
     "text": [
      "Collecting telethonNote: you may need to restart the kernel to use updated packages.\n",
      "\n",
      "  Downloading Telethon-1.30.3.tar.gz (552 kB)\n",
      "     ---------------------------------------- 0.0/552.1 kB ? eta -:--:--\n",
      "     - ----------------------------------- 20.5/552.1 kB 330.3 kB/s eta 0:00:02\n",
      "     --- --------------------------------- 51.2/552.1 kB 435.7 kB/s eta 0:00:02\n",
      "     -------- --------------------------- 122.9/552.1 kB 901.1 kB/s eta 0:00:01\n",
      "     --------------------- ---------------- 317.4/552.1 kB 1.8 MB/s eta 0:00:01\n",
      "     -------------------------------------- 552.1/552.1 kB 2.5 MB/s eta 0:00:00\n",
      "  Installing build dependencies: started\n",
      "  Installing build dependencies: finished with status 'done'\n",
      "  Getting requirements to build wheel: started\n",
      "  Getting requirements to build wheel: finished with status 'done'\n",
      "  Preparing metadata (pyproject.toml): started\n",
      "  Preparing metadata (pyproject.toml): finished with status 'done'\n",
      "Collecting pyaes (from telethon)\n",
      "  Downloading pyaes-1.6.1.tar.gz (28 kB)\n",
      "  Preparing metadata (setup.py): started\n",
      "  Preparing metadata (setup.py): finished with status 'done'\n",
      "Requirement already satisfied: rsa in c:\\users\\mchomak\\appdata\\local\\programs\\python\\python311\\lib\\site-packages (from telethon) (4.9)\n",
      "Requirement already satisfied: pyasn1>=0.1.3 in c:\\users\\mchomak\\appdata\\local\\programs\\python\\python311\\lib\\site-packages (from rsa->telethon) (0.5.0)\n",
      "Building wheels for collected packages: telethon, pyaes\n",
      "  Building wheel for telethon (pyproject.toml): started\n",
      "  Building wheel for telethon (pyproject.toml): finished with status 'done'\n",
      "  Created wheel for telethon: filename=Telethon-1.30.3-py3-none-any.whl size=622045 sha256=e5772394a8afbfb90b607f9e890abe88d40d3f1a17cc928b92605cd5e54d6d38\n",
      "  Stored in directory: c:\\users\\mchomak\\appdata\\local\\pip\\cache\\wheels\\09\\a0\\8e\\f7e324bb1be01a5c03b416512f068c738cd346e1f148ec7382\n",
      "  Building wheel for pyaes (setup.py): started\n",
      "  Building wheel for pyaes (setup.py): finished with status 'done'\n",
      "  Created wheel for pyaes: filename=pyaes-1.6.1-py3-none-any.whl size=26359 sha256=cb46a5f9654f9fad8d2746424fd133dcaca8fe822bd468e0f95f211def1fa64d\n",
      "  Stored in directory: c:\\users\\mchomak\\appdata\\local\\pip\\cache\\wheels\\4e\\52\\33\\010d0843550bffb6a591b11629070ae140c0ad4f53e68a3bd3\n",
      "Successfully built telethon pyaes\n",
      "Installing collected packages: pyaes, telethon\n",
      "Successfully installed pyaes-1.6.1 telethon-1.30.3\n",
      "Collecting cryptg\n",
      "  Downloading cryptg-0.4.0-cp311-cp311-win_amd64.whl (123 kB)\n",
      "     ---------------------------------------- 0.0/123.2 kB ? eta -:--:--\n",
      "     --- ------------------------------------ 10.2/123.2 kB ? eta -:--:--\n",
      "     ------------ ------------------------ 41.0/123.2 kB 495.5 kB/s eta 0:00:01\n",
      "     ------------------------------------ 123.2/123.2 kB 903.9 kB/s eta 0:00:00\n",
      "Installing collected packages: cryptg\n",
      "Successfully installed cryptg-0.4.0\n",
      "Note: you may need to restart the kernel to use updated packages.\n",
      "Requirement already satisfied: pillow in c:\\users\\mchomak\\appdata\\local\\programs\\python\\python311\\lib\\site-packages (10.0.1)\n",
      "Note: you may need to restart the kernel to use updated packages.\n",
      "Collecting aiohttpNote: you may need to restart the kernel to use updated packages.\n",
      "\n",
      "  Obtaining dependency information for aiohttp from https://files.pythonhosted.org/packages/21/4e/452858698e53ddf06ea137eac268db535c9605394c27236f9986168dd82f/aiohttp-3.8.5-cp311-cp311-win_amd64.whl.metadata\n",
      "  Downloading aiohttp-3.8.5-cp311-cp311-win_amd64.whl.metadata (8.0 kB)\n",
      "Requirement already satisfied: attrs>=17.3.0 in c:\\users\\mchomak\\appdata\\local\\programs\\python\\python311\\lib\\site-packages (from aiohttp) (23.1.0)\n",
      "Requirement already satisfied: charset-normalizer<4.0,>=2.0 in c:\\users\\mchomak\\appdata\\local\\programs\\python\\python311\\lib\\site-packages (from aiohttp) (3.2.0)\n",
      "Collecting multidict<7.0,>=4.5 (from aiohttp)\n",
      "  Downloading multidict-6.0.4-cp311-cp311-win_amd64.whl (28 kB)\n",
      "Collecting async-timeout<5.0,>=4.0.0a3 (from aiohttp)\n",
      "  Obtaining dependency information for async-timeout<5.0,>=4.0.0a3 from https://files.pythonhosted.org/packages/a7/fa/e01228c2938de91d47b307831c62ab9e4001e747789d0b05baf779a6488c/async_timeout-4.0.3-py3-none-any.whl.metadata\n",
      "  Downloading async_timeout-4.0.3-py3-none-any.whl.metadata (4.2 kB)\n",
      "Collecting yarl<2.0,>=1.0 (from aiohttp)\n",
      "  Downloading yarl-1.9.2-cp311-cp311-win_amd64.whl (60 kB)\n",
      "     ---------------------------------------- 0.0/60.2 kB ? eta -:--:--\n",
      "     ------------------------- ------------ 41.0/60.2 kB 960.0 kB/s eta 0:00:01\n",
      "     ---------------------------------------- 60.2/60.2 kB 1.1 MB/s eta 0:00:00\n",
      "Collecting frozenlist>=1.1.1 (from aiohttp)\n",
      "  Obtaining dependency information for frozenlist>=1.1.1 from https://files.pythonhosted.org/packages/39/16/72d9ccd30815d0b37218348f053be37bc3d14288ac192a794a39990ac28e/frozenlist-1.4.0-cp311-cp311-win_amd64.whl.metadata\n",
      "  Downloading frozenlist-1.4.0-cp311-cp311-win_amd64.whl.metadata (5.3 kB)\n",
      "Collecting aiosignal>=1.1.2 (from aiohttp)\n",
      "  Downloading aiosignal-1.3.1-py3-none-any.whl (7.6 kB)\n",
      "Requirement already satisfied: idna>=2.0 in c:\\users\\mchomak\\appdata\\local\\programs\\python\\python311\\lib\\site-packages (from yarl<2.0,>=1.0->aiohttp) (3.4)\n",
      "Downloading aiohttp-3.8.5-cp311-cp311-win_amd64.whl (320 kB)\n",
      "   ---------------------------------------- 0.0/320.6 kB ? eta -:--:--\n",
      "   -------------- ------------------------- 112.6/320.6 kB 6.4 MB/s eta 0:00:01\n",
      "   ---------------------------------------- 320.6/320.6 kB 4.0 MB/s eta 0:00:00\n",
      "Downloading async_timeout-4.0.3-py3-none-any.whl (5.7 kB)\n",
      "Downloading frozenlist-1.4.0-cp311-cp311-win_amd64.whl (44 kB)\n",
      "   ---------------------------------------- 0.0/44.9 kB ? eta -:--:--\n",
      "   ---------------------------------------- 44.9/44.9 kB ? eta 0:00:00\n",
      "Installing collected packages: multidict, frozenlist, async-timeout, yarl, aiosignal, aiohttp\n",
      "Successfully installed aiohttp-3.8.5 aiosignal-1.3.1 async-timeout-4.0.3 frozenlist-1.4.0 multidict-6.0.4 yarl-1.9.2\n",
      "Collecting hachoir\n",
      "  Downloading hachoir-3.2.0-py3-none-any.whl (647 kB)\n",
      "     ---------------------------------------- 0.0/648.0 kB ? eta -:--:--\n",
      "      --------------------------------------- 10.2/648.0 kB ? eta -:--:--\n",
      "     -- ---------------------------------- 41.0/648.0 kB 653.6 kB/s eta 0:00:01\n",
      "     -------- ----------------------------- 143.4/648.0 kB 1.2 MB/s eta 0:00:01\n",
      "     ---------------- --------------------- 286.7/648.0 kB 2.0 MB/s eta 0:00:01\n",
      "     -------------------------------- ----- 553.0/648.0 kB 2.9 MB/s eta 0:00:01\n",
      "     -------------------------------------- 648.0/648.0 kB 2.7 MB/s eta 0:00:00\n",
      "Installing collected packages: hachoir\n",
      "Successfully installed hachoir-3.2.0\n",
      "Note: you may need to restart the kernel to use updated packages.\n"
     ]
    }
   ],
   "source": [
    "%pip install telethon\n",
    "%pip install cryptg\n",
    "%pip install pillow\n",
    "%pip install aiohttp\n",
    "%pip install hachoir"
   ]
  },
  {
   "cell_type": "code",
   "execution_count": 1,
   "metadata": {},
   "outputs": [
    {
     "name": "stdout",
     "output_type": "stream",
     "text": [
      "Requirement already satisfied: pillow in c:\\users\\mchomak\\appdata\\local\\programs\\python\\python311\\lib\\site-packages (10.0.1)\n",
      "Note: you may need to restart the kernel to use updated packages.\n"
     ]
    }
   ],
   "source": [
    "%pip install pillow\n"
   ]
  }
 ],
 "metadata": {
  "kernelspec": {
   "display_name": "Python 3",
   "language": "python",
   "name": "python3"
  },
  "language_info": {
   "codemirror_mode": {
    "name": "ipython",
    "version": 3
   },
   "file_extension": ".py",
   "mimetype": "text/x-python",
   "name": "python",
   "nbconvert_exporter": "python",
   "pygments_lexer": "ipython3",
   "version": "3.11.5"
  },
  "orig_nbformat": 4
 },
 "nbformat": 4,
 "nbformat_minor": 2
}
